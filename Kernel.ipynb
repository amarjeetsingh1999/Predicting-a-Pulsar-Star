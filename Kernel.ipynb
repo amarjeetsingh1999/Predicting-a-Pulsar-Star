{
 "cells": [
  {
   "cell_type": "code",
   "execution_count": 1,
   "metadata": {},
   "outputs": [],
   "source": [
    "import pandas as pd\n",
    "import numpy as np\n",
    "from sklearn import preprocessing\n",
    "import matplotlib.pyplot as plt \n",
    "%matplotlib inline\n",
    "plt.rc(\"font\", size=14)\n",
    "from sklearn.linear_model import LogisticRegression\n",
    "from sklearn.model_selection import train_test_split\n",
    "import seaborn as sns\n",
    "sns.set(style=\"white\")\n",
    "sns.set(style=\"whitegrid\", color_codes=True)"
   ]
  },
  {
   "cell_type": "markdown",
   "metadata": {},
   "source": [
    "### Loading the Train.CSV file"
   ]
  },
  {
   "cell_type": "code",
   "execution_count": 2,
   "metadata": {},
   "outputs": [
    {
     "data": {
      "text/html": [
       "<div>\n",
       "<style scoped>\n",
       "    .dataframe tbody tr th:only-of-type {\n",
       "        vertical-align: middle;\n",
       "    }\n",
       "\n",
       "    .dataframe tbody tr th {\n",
       "        vertical-align: top;\n",
       "    }\n",
       "\n",
       "    .dataframe thead th {\n",
       "        text-align: right;\n",
       "    }\n",
       "</style>\n",
       "<table border=\"1\" class=\"dataframe\">\n",
       "  <thead>\n",
       "    <tr style=\"text-align: right;\">\n",
       "      <th></th>\n",
       "      <th>Mean_Profile</th>\n",
       "      <th>SD_Profile</th>\n",
       "      <th>Excess_kurtosis_Profile</th>\n",
       "      <th>Skewness_Profile</th>\n",
       "      <th>Mean_Curve</th>\n",
       "      <th>SD_Curve</th>\n",
       "      <th>Excess_kurtosis_curve</th>\n",
       "      <th>Skewness_curve</th>\n",
       "      <th>Pulsar</th>\n",
       "    </tr>\n",
       "  </thead>\n",
       "  <tbody>\n",
       "    <tr>\n",
       "      <th>0</th>\n",
       "      <td>139.937500</td>\n",
       "      <td>53.439035</td>\n",
       "      <td>-0.039384</td>\n",
       "      <td>-0.284501</td>\n",
       "      <td>2.052676</td>\n",
       "      <td>15.381810</td>\n",
       "      <td>10.683568</td>\n",
       "      <td>138.329152</td>\n",
       "      <td>0</td>\n",
       "    </tr>\n",
       "    <tr>\n",
       "      <th>1</th>\n",
       "      <td>139.625000</td>\n",
       "      <td>49.633973</td>\n",
       "      <td>-0.184105</td>\n",
       "      <td>-0.015896</td>\n",
       "      <td>0.939799</td>\n",
       "      <td>10.092949</td>\n",
       "      <td>17.078812</td>\n",
       "      <td>367.454955</td>\n",
       "      <td>0</td>\n",
       "    </tr>\n",
       "    <tr>\n",
       "      <th>2</th>\n",
       "      <td>106.648438</td>\n",
       "      <td>55.669587</td>\n",
       "      <td>0.377442</td>\n",
       "      <td>-0.594865</td>\n",
       "      <td>1.557692</td>\n",
       "      <td>14.090161</td>\n",
       "      <td>12.268356</td>\n",
       "      <td>171.990291</td>\n",
       "      <td>0</td>\n",
       "    </tr>\n",
       "    <tr>\n",
       "      <th>3</th>\n",
       "      <td>83.015625</td>\n",
       "      <td>38.095272</td>\n",
       "      <td>0.514061</td>\n",
       "      <td>2.177837</td>\n",
       "      <td>1.945652</td>\n",
       "      <td>16.407373</td>\n",
       "      <td>9.732946</td>\n",
       "      <td>104.435977</td>\n",
       "      <td>0</td>\n",
       "    </tr>\n",
       "    <tr>\n",
       "      <th>4</th>\n",
       "      <td>116.468750</td>\n",
       "      <td>35.632222</td>\n",
       "      <td>0.386352</td>\n",
       "      <td>2.199301</td>\n",
       "      <td>1.541806</td>\n",
       "      <td>14.173109</td>\n",
       "      <td>12.022914</td>\n",
       "      <td>164.296414</td>\n",
       "      <td>0</td>\n",
       "    </tr>\n",
       "  </tbody>\n",
       "</table>\n",
       "</div>"
      ],
      "text/plain": [
       "   Mean_Profile  SD_Profile  Excess_kurtosis_Profile  Skewness_Profile  \\\n",
       "0    139.937500   53.439035                -0.039384         -0.284501   \n",
       "1    139.625000   49.633973                -0.184105         -0.015896   \n",
       "2    106.648438   55.669587                 0.377442         -0.594865   \n",
       "3     83.015625   38.095272                 0.514061          2.177837   \n",
       "4    116.468750   35.632222                 0.386352          2.199301   \n",
       "\n",
       "   Mean_Curve   SD_Curve  Excess_kurtosis_curve  Skewness_curve  Pulsar  \n",
       "0    2.052676  15.381810              10.683568      138.329152       0  \n",
       "1    0.939799  10.092949              17.078812      367.454955       0  \n",
       "2    1.557692  14.090161              12.268356      171.990291       0  \n",
       "3    1.945652  16.407373               9.732946      104.435977       0  \n",
       "4    1.541806  14.173109              12.022914      164.296414       0  "
      ]
     },
     "execution_count": 2,
     "metadata": {},
     "output_type": "execute_result"
    }
   ],
   "source": [
    "df = pd.read_csv('Pulsar_datasets/Train.csv')\n",
    "df.head()"
   ]
  },
  {
   "cell_type": "markdown",
   "metadata": {},
   "source": [
    "### Splitting Dataset into Training and Test set"
   ]
  },
  {
   "cell_type": "code",
   "execution_count": 3,
   "metadata": {},
   "outputs": [],
   "source": [
    "X = df.loc[:, df.columns != 'Pulsar']\n",
    "y = df.loc[:, df.columns == 'Pulsar']\n",
    "\n",
    "# Splitting the dataset into the Training set and Test set\n",
    "X_train, X_test, y_train, y_test = train_test_split(X, y, test_size=0.3, random_state=0)"
   ]
  },
  {
   "cell_type": "markdown",
   "metadata": {},
   "source": [
    "### Implementing the model"
   ]
  },
  {
   "cell_type": "code",
   "execution_count": 4,
   "metadata": {},
   "outputs": [
    {
     "name": "stdout",
     "output_type": "stream",
     "text": [
      "Optimization terminated successfully.\n",
      "         Current function value: 0.072521\n",
      "         Iterations 10\n",
      "                             Results: Logit\n",
      "========================================================================\n",
      "Model:                  Logit              Pseudo R-squared:   0.765    \n",
      "Dependent Variable:     Pulsar             AIC:                1833.0976\n",
      "Date:                   2019-03-10 20:07   BIC:                1892.5833\n",
      "No. Observations:       12528              Log-Likelihood:     -908.55  \n",
      "Df Model:               7                  LL-Null:            -3864.8  \n",
      "Df Residuals:           12520              LLR p-value:        0.0000   \n",
      "Converged:              1.0000             Scale:              1.0000   \n",
      "No. Iterations:         10.0000                                         \n",
      "------------------------------------------------------------------------\n",
      "                         Coef.  Std.Err.    z     P>|z|   [0.025  0.975]\n",
      "------------------------------------------------------------------------\n",
      "Mean_Profile            -0.0066   0.0060  -1.1029 0.2701 -0.0183  0.0051\n",
      "SD_Profile              -0.0488   0.0122  -3.9935 0.0001 -0.0727 -0.0248\n",
      "Excess_kurtosis_Profile  5.2992   0.2970  17.8446 0.0000  4.7172  5.8813\n",
      "Skewness_Profile        -0.5628   0.0388 -14.5129 0.0000 -0.6389 -0.4868\n",
      "Mean_Curve              -0.0304   0.0038  -8.0141 0.0000 -0.0378 -0.0230\n",
      "SD_Curve                 0.0122   0.0075   1.6344 0.1022 -0.0024  0.0268\n",
      "Excess_kurtosis_curve   -0.5013   0.0761  -6.5862 0.0000 -0.6505 -0.3521\n",
      "Skewness_curve           0.0112   0.0028   4.0205 0.0001  0.0057  0.0167\n",
      "========================================================================\n",
      "\n"
     ]
    }
   ],
   "source": [
    "import statsmodels.api as sm\n",
    "logit_model=sm.Logit(y,X)\n",
    "result=logit_model.fit()\n",
    "print(result.summary2())"
   ]
  },
  {
   "cell_type": "markdown",
   "metadata": {},
   "source": [
    "> #### The p-values for most of the variables are smaller than 0.05, except two variables(Mean_Profile and SD_Curve), therefore, we will remove them."
   ]
  },
  {
   "cell_type": "code",
   "execution_count": 5,
   "metadata": {},
   "outputs": [
    {
     "name": "stdout",
     "output_type": "stream",
     "text": [
      "Optimization terminated successfully.\n",
      "         Current function value: 0.073649\n",
      "         Iterations 10\n",
      "                             Results: Logit\n",
      "========================================================================\n",
      "Model:                  Logit              Pseudo R-squared:   0.760    \n",
      "Dependent Variable:     Pulsar             AIC:                1303.6569\n",
      "Date:                   2019-03-10 20:07   BIC:                1346.1308\n",
      "No. Observations:       8769               Log-Likelihood:     -645.83  \n",
      "Df Model:               5                  LL-Null:            -2696.2  \n",
      "Df Residuals:           8763               LLR p-value:        0.0000   \n",
      "Converged:              1.0000             Scale:              1.0000   \n",
      "No. Iterations:         10.0000                                         \n",
      "------------------------------------------------------------------------\n",
      "                         Coef.  Std.Err.    z     P>|z|   [0.025  0.975]\n",
      "------------------------------------------------------------------------\n",
      "SD_Profile              -0.0524   0.0081  -6.5015 0.0000 -0.0682 -0.0366\n",
      "Excess_kurtosis_Profile  5.4219   0.2627  20.6369 0.0000  4.9070  5.9368\n",
      "Skewness_Profile        -0.5654   0.0397 -14.2345 0.0000 -0.6433 -0.4876\n",
      "Mean_Curve              -0.0268   0.0045  -5.9750 0.0000 -0.0356 -0.0180\n",
      "Excess_kurtosis_curve   -0.5364   0.0805  -6.6618 0.0000 -0.6942 -0.3786\n",
      "Skewness_curve           0.0112   0.0039   2.8512 0.0044  0.0035  0.0189\n",
      "========================================================================\n",
      "\n"
     ]
    }
   ],
   "source": [
    "cols1=['SD_Profile', 'Excess_kurtosis_Profile', 'Skewness_Profile', 'Mean_Curve', 'Excess_kurtosis_curve', 'Skewness_curve'] \n",
    "X=X_train[cols1]\n",
    "y=y_train['Pulsar']\n",
    "logit_model=sm.Logit(y,X)\n",
    "result=logit_model.fit()\n",
    "print(result.summary2())"
   ]
  },
  {
   "cell_type": "markdown",
   "metadata": {},
   "source": [
    "### Logistic Regression Model Fitting"
   ]
  },
  {
   "cell_type": "code",
   "execution_count": 6,
   "metadata": {},
   "outputs": [
    {
     "name": "stderr",
     "output_type": "stream",
     "text": [
      "C:\\Users\\Dell\\Anaconda3\\lib\\site-packages\\sklearn\\linear_model\\logistic.py:432: FutureWarning: Default solver will be changed to 'lbfgs' in 0.22. Specify a solver to silence this warning.\n",
      "  FutureWarning)\n"
     ]
    },
    {
     "data": {
      "text/plain": [
       "LogisticRegression(C=1.0, class_weight=None, dual=False, fit_intercept=True,\n",
       "          intercept_scaling=1, max_iter=100, multi_class='warn',\n",
       "          n_jobs=None, penalty='l2', random_state=None, solver='warn',\n",
       "          tol=0.0001, verbose=0, warm_start=False)"
      ]
     },
     "execution_count": 6,
     "metadata": {},
     "output_type": "execute_result"
    }
   ],
   "source": [
    "X_train, X_test, y_train, y_test = train_test_split(X, y, test_size=0.3, random_state=0)\n",
    "logreg = LogisticRegression()\n",
    "logreg.fit(X_train, y_train)"
   ]
  },
  {
   "cell_type": "markdown",
   "metadata": {},
   "source": [
    "### Predicting the test set results"
   ]
  },
  {
   "cell_type": "code",
   "execution_count": 7,
   "metadata": {},
   "outputs": [
    {
     "data": {
      "text/plain": [
       "array([0, 0, 0, ..., 0, 0, 0], dtype=int64)"
      ]
     },
     "execution_count": 7,
     "metadata": {},
     "output_type": "execute_result"
    }
   ],
   "source": [
    "y_pred = logreg.predict(X_test)\n",
    "y_pred"
   ]
  },
  {
   "cell_type": "markdown",
   "metadata": {},
   "source": [
    "### Calculating the accuracy"
   ]
  },
  {
   "cell_type": "code",
   "execution_count": 8,
   "metadata": {},
   "outputs": [
    {
     "name": "stdout",
     "output_type": "stream",
     "text": [
      "Accuracy of logistic regression classifier on test set: 0.98\n"
     ]
    }
   ],
   "source": [
    "print('Accuracy of logistic regression classifier on test set: {:.2f}'.format(logreg.score(X_test, y_test)))"
   ]
  },
  {
   "cell_type": "markdown",
   "metadata": {},
   "source": [
    "### Confusion Matrix"
   ]
  },
  {
   "cell_type": "code",
   "execution_count": 9,
   "metadata": {},
   "outputs": [
    {
     "name": "stdout",
     "output_type": "stream",
     "text": [
      "[[2357   16]\n",
      " [  31  227]]\n"
     ]
    }
   ],
   "source": [
    "from sklearn.metrics import confusion_matrix\n",
    "confusion_matrix = confusion_matrix(y_test, y_pred)\n",
    "print(confusion_matrix)"
   ]
  },
  {
   "cell_type": "markdown",
   "metadata": {},
   "source": [
    "> #### The result is telling us that we have 2357+227 correct predictions and 31+16 incorrect predictions."
   ]
  },
  {
   "cell_type": "markdown",
   "metadata": {},
   "source": [
    "### Compute precision, recall, F-measure and support"
   ]
  },
  {
   "cell_type": "code",
   "execution_count": 10,
   "metadata": {},
   "outputs": [
    {
     "name": "stdout",
     "output_type": "stream",
     "text": [
      "              precision    recall  f1-score   support\n",
      "\n",
      "           0       0.99      0.99      0.99      2373\n",
      "           1       0.93      0.88      0.91       258\n",
      "\n",
      "   micro avg       0.98      0.98      0.98      2631\n",
      "   macro avg       0.96      0.94      0.95      2631\n",
      "weighted avg       0.98      0.98      0.98      2631\n",
      "\n"
     ]
    }
   ],
   "source": [
    "from sklearn.metrics import classification_report\n",
    "print(classification_report(y_test, y_pred))"
   ]
  },
  {
   "cell_type": "markdown",
   "metadata": {},
   "source": [
    "### ROC Curve"
   ]
  },
  {
   "cell_type": "code",
   "execution_count": 11,
   "metadata": {},
   "outputs": [
    {
     "data": {
      "image/png": "[encoded data removed]",
      "text/plain": [
       "<Figure size 432x288 with 1 Axes>"
      ]
     },
     "metadata": {
      "needs_background": "light"
     },
     "output_type": "display_data"
    }
   ],
   "source": [
    "from sklearn.metrics import roc_auc_score\n",
    "from sklearn.metrics import roc_curve\n",
    "logit_roc_auc = roc_auc_score(y_test, logreg.predict(X_test))\n",
    "fpr, tpr, thresholds = roc_curve(y_test, logreg.predict_proba(X_test)[:,1])\n",
    "plt.figure()\n",
    "plt.plot(fpr, tpr, label='Logistic Regression (area = %0.2f)' % logit_roc_auc)\n",
    "plt.plot([0, 1], [0, 1],'r--')\n",
    "plt.xlim([0.0, 1.0])\n",
    "plt.ylim([0.0, 1.05])\n",
    "plt.xlabel('False Positive Rate')\n",
    "plt.ylabel('True Positive Rate')\n",
    "plt.title('Receiver operating characteristic')\n",
    "plt.legend(loc=\"lower right\")\n",
    "plt.show()"
   ]
  },
  {
   "cell_type": "markdown",
   "metadata": {},
   "source": [
    "> #### The dotted line represents the ROC curve of a purely random classifier; a good classifier stays as far away from that line as possible (toward the top-left corner)."
   ]
  },
  {
   "cell_type": "code",
   "execution_count": null,
   "metadata": {},
   "outputs": [],
   "source": []
  },
  {
   "cell_type": "markdown",
   "metadata": {},
   "source": [
    "## Predicting output for the Test.CSV"
   ]
  },
  {
   "cell_type": "markdown",
   "metadata": {},
   "source": [
    "### Loading the Test.CSV file"
   ]
  },
  {
   "cell_type": "code",
   "execution_count": 12,
   "metadata": {},
   "outputs": [
    {
     "data": {
      "text/html": [
       "<div>\n",
       "<style scoped>\n",
       "    .dataframe tbody tr th:only-of-type {\n",
       "        vertical-align: middle;\n",
       "    }\n",
       "\n",
       "    .dataframe tbody tr th {\n",
       "        vertical-align: top;\n",
       "    }\n",
       "\n",
       "    .dataframe thead th {\n",
       "        text-align: right;\n",
       "    }\n",
       "</style>\n",
       "<table border=\"1\" class=\"dataframe\">\n",
       "  <thead>\n",
       "    <tr style=\"text-align: right;\">\n",
       "      <th></th>\n",
       "      <th>Mean_Profile</th>\n",
       "      <th>SD_Profile</th>\n",
       "      <th>Excess_kurtosis_Profile</th>\n",
       "      <th>Skewness_Profile</th>\n",
       "      <th>Mean_Curve</th>\n",
       "      <th>SD_Curve</th>\n",
       "      <th>Excess_kurtosis_curve</th>\n",
       "      <th>Skewness_curve</th>\n",
       "    </tr>\n",
       "  </thead>\n",
       "  <tbody>\n",
       "    <tr>\n",
       "      <th>0</th>\n",
       "      <td>114.531250</td>\n",
       "      <td>43.977078</td>\n",
       "      <td>0.348897</td>\n",
       "      <td>0.962387</td>\n",
       "      <td>1.548495</td>\n",
       "      <td>13.955201</td>\n",
       "      <td>10.927910</td>\n",
       "      <td>140.540754</td>\n",
       "    </tr>\n",
       "    <tr>\n",
       "      <th>1</th>\n",
       "      <td>108.617188</td>\n",
       "      <td>45.805656</td>\n",
       "      <td>0.500210</td>\n",
       "      <td>0.328802</td>\n",
       "      <td>2.734950</td>\n",
       "      <td>20.424979</td>\n",
       "      <td>8.552659</td>\n",
       "      <td>78.183891</td>\n",
       "    </tr>\n",
       "    <tr>\n",
       "      <th>2</th>\n",
       "      <td>105.546875</td>\n",
       "      <td>41.360998</td>\n",
       "      <td>0.219053</td>\n",
       "      <td>0.555135</td>\n",
       "      <td>2.469900</td>\n",
       "      <td>14.960704</td>\n",
       "      <td>9.051707</td>\n",
       "      <td>103.517934</td>\n",
       "    </tr>\n",
       "    <tr>\n",
       "      <th>3</th>\n",
       "      <td>94.507812</td>\n",
       "      <td>33.818910</td>\n",
       "      <td>0.401374</td>\n",
       "      <td>3.052846</td>\n",
       "      <td>2.749164</td>\n",
       "      <td>21.541023</td>\n",
       "      <td>8.608826</td>\n",
       "      <td>78.096962</td>\n",
       "    </tr>\n",
       "    <tr>\n",
       "      <th>4</th>\n",
       "      <td>122.562500</td>\n",
       "      <td>45.473679</td>\n",
       "      <td>0.062036</td>\n",
       "      <td>0.417907</td>\n",
       "      <td>2.964047</td>\n",
       "      <td>21.711191</td>\n",
       "      <td>8.214987</td>\n",
       "      <td>71.957368</td>\n",
       "    </tr>\n",
       "  </tbody>\n",
       "</table>\n",
       "</div>"
      ],
      "text/plain": [
       "   Mean_Profile  SD_Profile  Excess_kurtosis_Profile  Skewness_Profile  \\\n",
       "0    114.531250   43.977078                 0.348897          0.962387   \n",
       "1    108.617188   45.805656                 0.500210          0.328802   \n",
       "2    105.546875   41.360998                 0.219053          0.555135   \n",
       "3     94.507812   33.818910                 0.401374          3.052846   \n",
       "4    122.562500   45.473679                 0.062036          0.417907   \n",
       "\n",
       "   Mean_Curve   SD_Curve  Excess_kurtosis_curve  Skewness_curve  \n",
       "0    1.548495  13.955201              10.927910      140.540754  \n",
       "1    2.734950  20.424979               8.552659       78.183891  \n",
       "2    2.469900  14.960704               9.051707      103.517934  \n",
       "3    2.749164  21.541023               8.608826       78.096962  \n",
       "4    2.964047  21.711191               8.214987       71.957368  "
      ]
     },
     "execution_count": 12,
     "metadata": {},
     "output_type": "execute_result"
    }
   ],
   "source": [
    "df1 = pd.read_csv('Pulsar_datasets/Test.csv')\n",
    "df1.head()"
   ]
  },
  {
   "cell_type": "markdown",
   "metadata": {},
   "source": [
    "### Drop the redundant columns identified earlier"
   ]
  },
  {
   "cell_type": "code",
   "execution_count": 13,
   "metadata": {},
   "outputs": [
    {
     "data": {
      "text/html": [
       "<div>\n",
       "<style scoped>\n",
       "    .dataframe tbody tr th:only-of-type {\n",
       "        vertical-align: middle;\n",
       "    }\n",
       "\n",
       "    .dataframe tbody tr th {\n",
       "        vertical-align: top;\n",
       "    }\n",
       "\n",
       "    .dataframe thead th {\n",
       "        text-align: right;\n",
       "    }\n",
       "</style>\n",
       "<table border=\"1\" class=\"dataframe\">\n",
       "  <thead>\n",
       "    <tr style=\"text-align: right;\">\n",
       "      <th></th>\n",
       "      <th>SD_Profile</th>\n",
       "      <th>Excess_kurtosis_Profile</th>\n",
       "      <th>Skewness_Profile</th>\n",
       "      <th>Mean_Curve</th>\n",
       "      <th>Excess_kurtosis_curve</th>\n",
       "      <th>Skewness_curve</th>\n",
       "    </tr>\n",
       "  </thead>\n",
       "  <tbody>\n",
       "    <tr>\n",
       "      <th>0</th>\n",
       "      <td>43.977078</td>\n",
       "      <td>0.348897</td>\n",
       "      <td>0.962387</td>\n",
       "      <td>1.548495</td>\n",
       "      <td>10.927910</td>\n",
       "      <td>140.540754</td>\n",
       "    </tr>\n",
       "    <tr>\n",
       "      <th>1</th>\n",
       "      <td>45.805656</td>\n",
       "      <td>0.500210</td>\n",
       "      <td>0.328802</td>\n",
       "      <td>2.734950</td>\n",
       "      <td>8.552659</td>\n",
       "      <td>78.183891</td>\n",
       "    </tr>\n",
       "    <tr>\n",
       "      <th>2</th>\n",
       "      <td>41.360998</td>\n",
       "      <td>0.219053</td>\n",
       "      <td>0.555135</td>\n",
       "      <td>2.469900</td>\n",
       "      <td>9.051707</td>\n",
       "      <td>103.517934</td>\n",
       "    </tr>\n",
       "    <tr>\n",
       "      <th>3</th>\n",
       "      <td>33.818910</td>\n",
       "      <td>0.401374</td>\n",
       "      <td>3.052846</td>\n",
       "      <td>2.749164</td>\n",
       "      <td>8.608826</td>\n",
       "      <td>78.096962</td>\n",
       "    </tr>\n",
       "    <tr>\n",
       "      <th>4</th>\n",
       "      <td>45.473679</td>\n",
       "      <td>0.062036</td>\n",
       "      <td>0.417907</td>\n",
       "      <td>2.964047</td>\n",
       "      <td>8.214987</td>\n",
       "      <td>71.957368</td>\n",
       "    </tr>\n",
       "  </tbody>\n",
       "</table>\n",
       "</div>"
      ],
      "text/plain": [
       "   SD_Profile  Excess_kurtosis_Profile  Skewness_Profile  Mean_Curve  \\\n",
       "0   43.977078                 0.348897          0.962387    1.548495   \n",
       "1   45.805656                 0.500210          0.328802    2.734950   \n",
       "2   41.360998                 0.219053          0.555135    2.469900   \n",
       "3   33.818910                 0.401374          3.052846    2.749164   \n",
       "4   45.473679                 0.062036          0.417907    2.964047   \n",
       "\n",
       "   Excess_kurtosis_curve  Skewness_curve  \n",
       "0              10.927910      140.540754  \n",
       "1               8.552659       78.183891  \n",
       "2               9.051707      103.517934  \n",
       "3               8.608826       78.096962  \n",
       "4               8.214987       71.957368  "
      ]
     },
     "execution_count": 13,
     "metadata": {},
     "output_type": "execute_result"
    }
   ],
   "source": [
    "X1 = df1.drop(columns=['Mean_Profile', 'SD_Curve'])\n",
    "X1.head()"
   ]
  },
  {
   "cell_type": "markdown",
   "metadata": {},
   "source": [
    "### Predicting the test results"
   ]
  },
  {
   "cell_type": "code",
   "execution_count": 14,
   "metadata": {},
   "outputs": [
    {
     "data": {
      "text/plain": [
       "array([0, 0, 0, ..., 0, 0, 0], dtype=int64)"
      ]
     },
     "execution_count": 14,
     "metadata": {},
     "output_type": "execute_result"
    }
   ],
   "source": [
    "y1_pred = logreg.predict(X1)\n",
    "y1_pred"
   ]
  },
  {
   "cell_type": "markdown",
   "metadata": {},
   "source": [
    "### Saving the predicted results into a Predictions.CSV file"
   ]
  },
  {
   "cell_type": "code",
   "execution_count": 15,
   "metadata": {},
   "outputs": [],
   "source": [
    "# Convert y1_pred array to pandas data frame\n",
    "y1_pred_df = pd.DataFrame(y1_pred)\n",
    "\n",
    "# Make the index in y1_pred_df start from 1 instead of 0\n",
    "y1_pred_df.index += 1\n",
    "\n",
    "# Save the y1_pred_df as a csv file\n",
    "y1_pred_df.to_csv(\"Predictions.csv\", header=['Predictions'], index_label='Id')"
   ]
  },
  {
   "cell_type": "code",
   "execution_count": 2,
   "metadata": {},
   "outputs": [
    {
     "data": {
      "text/html": [
       "<div>\n",
       "<style scoped>\n",
       "    .dataframe tbody tr th:only-of-type {\n",
       "        vertical-align: middle;\n",
       "    }\n",
       "\n",
       "    .dataframe tbody tr th {\n",
       "        vertical-align: top;\n",
       "    }\n",
       "\n",
       "    .dataframe thead th {\n",
       "        text-align: right;\n",
       "    }\n",
       "</style>\n",
       "<table border=\"1\" class=\"dataframe\">\n",
       "  <thead>\n",
       "    <tr style=\"text-align: right;\">\n",
       "      <th></th>\n",
       "      <th>Id</th>\n",
       "      <th>True</th>\n",
       "    </tr>\n",
       "  </thead>\n",
       "  <tbody>\n",
       "    <tr>\n",
       "      <th>0</th>\n",
       "      <td>4073</td>\n",
       "      <td>0</td>\n",
       "    </tr>\n",
       "    <tr>\n",
       "      <th>1</th>\n",
       "      <td>12340</td>\n",
       "      <td>0</td>\n",
       "    </tr>\n",
       "    <tr>\n",
       "      <th>2</th>\n",
       "      <td>8812</td>\n",
       "      <td>0</td>\n",
       "    </tr>\n",
       "    <tr>\n",
       "      <th>3</th>\n",
       "      <td>10939</td>\n",
       "      <td>0</td>\n",
       "    </tr>\n",
       "    <tr>\n",
       "      <th>4</th>\n",
       "      <td>5029</td>\n",
       "      <td>0</td>\n",
       "    </tr>\n",
       "  </tbody>\n",
       "</table>\n",
       "</div>"
      ],
      "text/plain": [
       "      Id  True\n",
       "0   4073     0\n",
       "1  12340     0\n",
       "2   8812     0\n",
       "3  10939     0\n",
       "4   5029     0"
      ]
     },
     "execution_count": 2,
     "metadata": {},
     "output_type": "execute_result"
    }
   ],
   "source": [
    "df1 = pd.read_csv('True_Values.csv')\n",
    "df1.head()"
   ]
  },
  {
   "cell_type": "code",
   "execution_count": 3,
   "metadata": {},
   "outputs": [
    {
     "data": {
      "text/html": [
       "<div>\n",
       "<style scoped>\n",
       "    .dataframe tbody tr th:only-of-type {\n",
       "        vertical-align: middle;\n",
       "    }\n",
       "\n",
       "    .dataframe tbody tr th {\n",
       "        vertical-align: top;\n",
       "    }\n",
       "\n",
       "    .dataframe thead th {\n",
       "        text-align: right;\n",
       "    }\n",
       "</style>\n",
       "<table border=\"1\" class=\"dataframe\">\n",
       "  <thead>\n",
       "    <tr style=\"text-align: right;\">\n",
       "      <th></th>\n",
       "      <th>Id</th>\n",
       "      <th>Predictions</th>\n",
       "    </tr>\n",
       "  </thead>\n",
       "  <tbody>\n",
       "    <tr>\n",
       "      <th>0</th>\n",
       "      <td>1</td>\n",
       "      <td>0</td>\n",
       "    </tr>\n",
       "    <tr>\n",
       "      <th>1</th>\n",
       "      <td>2</td>\n",
       "      <td>0</td>\n",
       "    </tr>\n",
       "    <tr>\n",
       "      <th>2</th>\n",
       "      <td>3</td>\n",
       "      <td>0</td>\n",
       "    </tr>\n",
       "    <tr>\n",
       "      <th>3</th>\n",
       "      <td>4</td>\n",
       "      <td>0</td>\n",
       "    </tr>\n",
       "    <tr>\n",
       "      <th>4</th>\n",
       "      <td>5</td>\n",
       "      <td>0</td>\n",
       "    </tr>\n",
       "  </tbody>\n",
       "</table>\n",
       "</div>"
      ],
      "text/plain": [
       "   Id  Predictions\n",
       "0   1            0\n",
       "1   2            0\n",
       "2   3            0\n",
       "3   4            0\n",
       "4   5            0"
      ]
     },
     "execution_count": 3,
     "metadata": {},
     "output_type": "execute_result"
    }
   ],
   "source": [
    "df2 = pd.read_csv('Predictions.csv')\n",
    "df2.head()"
   ]
  },
  {
   "cell_type": "code",
   "execution_count": 6,
   "metadata": {},
   "outputs": [
    {
     "name": "stderr",
     "output_type": "stream",
     "text": [
      "C:\\Users\\Dell\\Anaconda3\\lib\\site-packages\\ipykernel_launcher.py:1: FutureWarning: Method .as_matrix will be removed in a future version. Use .values instead.\n",
      "  \"\"\"Entry point for launching an IPython kernel.\n"
     ]
    },
    {
     "data": {
      "text/plain": [
       "array([[0],\n",
       "       [0],\n",
       "       [0],\n",
       "       ...,\n",
       "       [0],\n",
       "       [0],\n",
       "       [0]], dtype=int64)"
      ]
     },
     "execution_count": 6,
     "metadata": {},
     "output_type": "execute_result"
    }
   ],
   "source": [
    "y1_test = df1.as_matrix(columns = df1.columns[1:])\n",
    "y1_test"
   ]
  },
  {
   "cell_type": "code",
   "execution_count": null,
   "metadata": {},
   "outputs": [],
   "source": [
    "y1_pred = "
   ]
  },
  {
   "cell_type": "code",
   "execution_count": null,
   "metadata": {},
   "outputs": [],
   "source": [
    "from sklearn.metrics import confusion_matrix\n",
    "confusion_matrix = confusion_matrix(y_test, y1_pred)\n",
    "print(confusion_matrix)"
   ]
  }
 ],
 "metadata": {
  "kernelspec": {
   "display_name": "Python 3",
   "language": "python",
   "name": "python3"
  },
  "language_info": {
   "codemirror_mode": {
    "name": "ipython",
    "version": 3
   },
   "file_extension": ".py",
   "mimetype": "text/x-python",
   "name": "python",
   "nbconvert_exporter": "python",
   "pygments_lexer": "ipython3",
   "version": "3.7.1"
  }
 },
 "nbformat": 4,
 "nbformat_minor": 2
}
